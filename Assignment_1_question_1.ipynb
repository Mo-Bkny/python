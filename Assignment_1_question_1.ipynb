{
  "nbformat": 4,
  "nbformat_minor": 0,
  "metadata": {
    "colab": {
      "provenance": [],
      "authorship_tag": "ABX9TyPl81Wo5qG8Y6mCFUNMwYvD",
      "include_colab_link": true
    },
    "kernelspec": {
      "name": "python3",
      "display_name": "Python 3"
    },
    "language_info": {
      "name": "python"
    }
  },
  "cells": [
    {
      "cell_type": "markdown",
      "metadata": {
        "id": "view-in-github",
        "colab_type": "text"
      },
      "source": [
        "<a href=\"https://colab.research.google.com/github/Mo-Bkny/python/blob/master/Assignment_1_question_1.ipynb\" target=\"_parent\"><img src=\"https://colab.research.google.com/assets/colab-badge.svg\" alt=\"Open In Colab\"/></a>"
      ]
    },
    {
      "cell_type": "code",
      "execution_count": null,
      "metadata": {
        "colab": {
          "base_uri": "https://localhost:8080/"
        },
        "id": "mNUAMDQEn5D5",
        "outputId": "90b2c9bb-bb73-43e8-9510-1d0ac63e61a6"
      },
      "outputs": [
        {
          "output_type": "stream",
          "name": "stdout",
          "text": [
            "Null Hypothesis (Ho): At least 80% of customers are satisfied (p >= 0.8)\n",
            "Alternative Hypothesis (Ha): Less than 80% of customers are satisfied (p < 0.8)\n",
            "Sample proportion: 0.75\n",
            "Test statistic (z): -1.6329931618554536\n",
            "Critical value (z) for alpha = 0.01 : 2.3263478740408408\n",
            "Reject Ho. There is evidence to suggest that less than 80% of customers are satisfied.\n"
          ]
        }
      ],
      "source": [
        "import numpy as np\n",
        "\n",
        "# Define sample size, satisfied customers, and significance level\n",
        "n = 200\n",
        "satisfied = 150\n",
        "alpha = 0.01  # Significance level\n",
        "\n",
        "# Null hypothesis (Ho): At least 80% are satisfied (p >= 0.8)\n",
        "# Alternative hypothesis (Ha): Less than 80% are satisfied (p < 0.8) - one-tailed test\n",
        "\n",
        "# Sample proportion of satisfied customers\n",
        "p_hat = satisfied / n\n",
        "\n",
        "# Standard error (assuming population proportion unknown)\n",
        "se = np.sqrt(p_hat * (1 - p_hat) / n)\n",
        "\n",
        "# Z-statistic calculation\n",
        "z_stat = (p_hat - 0.8) / se\n",
        "\n",
        "# Critical value for one-tailed test at 0.01 significance level\n",
        "# Using standard normal distribution table or functions\n",
        "\n",
        "from scipy.stats import norm\n",
        "\n",
        "critical_z = norm.ppf(1 - alpha)  # One-tailed\n",
        "\n",
        "# Decision rule\n",
        "# Reject Ho if z_stat < critical_z (one-tailed left test)\n",
        "\n",
        "print(\"Null Hypothesis (Ho): At least 80% of customers are satisfied (p >= 0.8)\")\n",
        "print(\"Alternative Hypothesis (Ha): Less than 80% of customers are satisfied (p < 0.8)\")\n",
        "print(\"Sample proportion:\", p_hat)\n",
        "print(\"Test statistic (z):\", z_stat)\n",
        "print(\"Critical value (z) for alpha =\", alpha, \":\", critical_z)\n",
        "\n",
        "if z_stat < critical_z:\n",
        "  print(\"Reject Ho. There is evidence to suggest that less than 80% of customers are satisfied.\")\n",
        "else:\n",
        "  print(\"Fail to reject Ho. At the\", alpha, \"significance level, we cannot reject the claim that at least 80% of customers are satisfied based on this sample.\")\n"
      ]
    }
  ]
}