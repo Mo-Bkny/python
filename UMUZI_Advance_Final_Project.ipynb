{
  "nbformat": 4,
  "nbformat_minor": 0,
  "metadata": {
    "colab": {
      "provenance": [],
      "mount_file_id": "1HdlLYVc_Unek4A1uhZntwSyVB2cd22a3",
      "authorship_tag": "ABX9TyMfeuSfl+acg77G9rHQz3r8",
      "include_colab_link": true
    },
    "kernelspec": {
      "name": "python3",
      "display_name": "Python 3"
    },
    "language_info": {
      "name": "python"
    }
  },
  "cells": [
    {
      "cell_type": "markdown",
      "metadata": {
        "id": "view-in-github",
        "colab_type": "text"
      },
      "source": [
        "<a href=\"https://colab.research.google.com/github/Mo-Bkny/python/blob/master/UMUZI_Advance_Final_Project.ipynb\" target=\"_parent\"><img src=\"https://colab.research.google.com/assets/colab-badge.svg\" alt=\"Open In Colab\"/></a>"
      ]
    },
    {
      "cell_type": "code",
      "execution_count": 1,
      "metadata": {
        "id": "uRJJg_VKFCRB"
      },
      "outputs": [],
      "source": [
        "import numpy as np\n",
        "import os\n",
        "import matplotlib.pyplot as plt\n",
        "from PIL import Image"
      ]
    },
    {
      "cell_type": "code",
      "source": [
        "# Helper function to help you load the data\n",
        "\n",
        "def load_data(data_dir):\n",
        "    images = []\n",
        "    labels = []\n",
        "\n",
        "    # Iterate through each fracture type directory\n",
        "    for fracture_type in os.listdir(data_dir):\n",
        "        fracture_dir = os.path.join(data_dir, fracture_type)\n",
        "\n",
        "        # Check if it's a directory\n",
        "        if os.path.isdir(fracture_dir):\n",
        "            # Load training images\n",
        "            train_dir = os.path.join(fracture_dir, 'Train')\n",
        "            for img_name in os.listdir(train_dir):\n",
        "                img_path = os.path.join(train_dir, img_name)\n",
        "                img = Image.open(img_path).convert('RGB')  # Ensure images are in RGB format\n",
        "                img = img.resize((224, 224))  # Resize if needed\n",
        "                images.append(np.array(img))\n",
        "                labels.append(fracture_type)  # Use the directory name as the label\n",
        "\n",
        "            # Load testing images\n",
        "            test_dir = os.path.join(fracture_dir, 'Test')\n",
        "            for img_name in os.listdir(test_dir):\n",
        "                img_path = os.path.join(test_dir, img_name)\n",
        "                img = Image.open(img_path).convert('RGB')\n",
        "                img = img.resize((224, 224))\n",
        "                images.append(np.array(img))\n",
        "                labels.append(fracture_type)\n",
        "\n",
        "    return np.array(images), np.array(labels)\n",
        "\n",
        "# Example usage\n",
        "data_directory = '/content/drive/MyDrive/Bone Break Classification/' # Change appropriately\n",
        "images, labels = load_data(data_directory)\n",
        "\n",
        "print(f'Loaded {len(images)} images with {len(set(labels))} unique classes.')"
      ],
      "metadata": {
        "colab": {
          "base_uri": "https://localhost:8080/"
        },
        "id": "djV9OVQYFU6u",
        "outputId": "86ed2316-6dba-429a-9545-50d748948608"
      },
      "execution_count": 2,
      "outputs": [
        {
          "output_type": "stream",
          "name": "stdout",
          "text": [
            "Loaded 1129 images with 10 unique classes.\n"
          ]
        }
      ]
    }
  ]
}